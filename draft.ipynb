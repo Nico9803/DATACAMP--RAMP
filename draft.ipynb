{
 "cells": [
  {
   "cell_type": "code",
   "execution_count": 1,
   "metadata": {},
   "outputs": [],
   "source": [
    "### WE TEST THE WORKFLOW\n",
    "from rampwf.utils import assert_read_problem\n",
    "problem = assert_read_problem()\n",
    "\n"
   ]
  },
  {
   "cell_type": "code",
   "execution_count": 2,
   "metadata": {},
   "outputs": [],
   "source": [
    "## currently ~2min50\n",
    "X_train, y_train = problem.get_train_data()\n",
    "X_test, y_test = problem.get_test_data()\n"
   ]
  },
  {
   "cell_type": "code",
   "execution_count": 3,
   "metadata": {},
   "outputs": [
    {
     "data": {
      "text/plain": [
       "((5000, 64, 64), (5000, 16384), (1000, 64, 64), (1000, 16384))"
      ]
     },
     "execution_count": 3,
     "metadata": {},
     "output_type": "execute_result"
    }
   ],
   "source": [
    "X_train.shape, y_train.shape, X_test.shape, y_test.shape"
   ]
  },
  {
   "cell_type": "code",
   "execution_count": 4,
   "metadata": {},
   "outputs": [],
   "source": [
    "trained_workflow = problem.workflow.train_submission(\n",
    "    'submissions/starting_kit', X_train, y_train)\n"
   ]
  },
  {
   "cell_type": "code",
   "execution_count": 5,
   "metadata": {},
   "outputs": [],
   "source": [
    "y_pred_test = problem.workflow.test_submission(\n",
    "    trained_workflow, X_test)\n"
   ]
  },
  {
   "cell_type": "code",
   "execution_count": 6,
   "metadata": {},
   "outputs": [
    {
     "data": {
      "text/plain": [
       "(1000, 16384)"
      ]
     },
     "execution_count": 6,
     "metadata": {},
     "output_type": "execute_result"
    }
   ],
   "source": [
    "y_pred_test.shape"
   ]
  },
  {
   "cell_type": "code",
   "execution_count": 7,
   "metadata": {},
   "outputs": [
    {
     "data": {
      "text/plain": [
       "(1000, 16384)"
      ]
     },
     "execution_count": 7,
     "metadata": {},
     "output_type": "execute_result"
    }
   ],
   "source": [
    "y_test.shape"
   ]
  },
  {
   "cell_type": "code",
   "execution_count": 8,
   "metadata": {},
   "outputs": [],
   "source": [
    "test_predictions = problem.Predictions(y_pred=y_pred_test)\n"
   ]
  },
  {
   "cell_type": "code",
   "execution_count": 9,
   "metadata": {},
   "outputs": [],
   "source": [
    "test_ground_truth = problem.Predictions(y_true=y_test)"
   ]
  },
  {
   "cell_type": "code",
   "execution_count": 10,
   "metadata": {},
   "outputs": [
    {
     "name": "stdout",
     "output_type": "stream",
     "text": [
      "RMSE = 0.04417722299695015\n",
      "SSIM = 0.9046463733890877\n"
     ]
    }
   ],
   "source": [
    "for score_type in problem.score_types:\n",
    "    score = score_type.score_function(\n",
    "        test_ground_truth, test_predictions)\n",
    "    print(f'{score_type.name} = {score}')"
   ]
  },
  {
   "cell_type": "code",
   "execution_count": 11,
   "metadata": {},
   "outputs": [],
   "source": [
    "cv = problem.get_cv(X_train, y_train)"
   ]
  },
  {
   "cell_type": "code",
   "execution_count": 12,
   "metadata": {},
   "outputs": [
    {
     "name": "stdout",
     "output_type": "stream",
     "text": [
      "fold 0:\n",
      "\ttrain RMSE = 0.04607901722192764\n",
      "\tvalid RMSE = 0.04482368007302284\n",
      "\ttest RMSE = 0.04707134887576103\n",
      "\ttrain SSIM = 0.8988339021274954\n",
      "\tvalid SSIM = 0.8997296436238486\n",
      "\ttest SSIM = 0.8975208181708951\n",
      "fold 1:\n",
      "\ttrain RMSE = 0.04784651845693588\n",
      "\tvalid RMSE = 0.04847003519535065\n",
      "\ttest RMSE = 0.04932428151369095\n",
      "\ttrain SSIM = 0.8959664803950901\n",
      "\tvalid SSIM = 0.8960404520132396\n",
      "\ttest SSIM = 0.894347726935654\n",
      "fold 2:\n",
      "\ttrain RMSE = 0.04253712296485901\n",
      "\tvalid RMSE = 0.043170083314180374\n",
      "\ttest RMSE = 0.04393545910716057\n",
      "\ttrain SSIM = 0.9071085190299971\n",
      "\tvalid SSIM = 0.9068342213335996\n",
      "\ttest SSIM = 0.9054871087947501\n",
      "fold 3:\n",
      "\ttrain RMSE = 0.04693858325481415\n",
      "\tvalid RMSE = 0.046896886080503464\n",
      "\ttest RMSE = 0.04820922762155533\n",
      "\ttrain SSIM = 0.8974641890152192\n",
      "\tvalid SSIM = 0.8972456131610259\n",
      "\ttest SSIM = 0.8958633759085494\n"
     ]
    }
   ],
   "source": [
    "for fold_i, (train_is, valid_is) in enumerate(cv):\n",
    "    print(f'fold {fold_i}:')\n",
    "    trained_workflow = problem.workflow.train_submission(\n",
    "        'submissions/starting_kit', X_train, y_train, train_is)\n",
    "    y_pred_train = problem.workflow.test_submission(\n",
    "        trained_workflow, X_train)\n",
    "    y_pred_test = problem.workflow.test_submission(\n",
    "        trained_workflow, X_test)\n",
    "    train_predictions = problem.Predictions(\n",
    "        y_pred=y_pred_train, fold_is=train_is)\n",
    "    valid_predictions = problem.Predictions(\n",
    "        y_pred=y_pred_train, fold_is=valid_is)\n",
    "    test_predictions = problem.Predictions(y_pred=y_pred_test)\n",
    "    train_ground_truth = problem.Predictions(\n",
    "        y_true=y_train, fold_is=train_is)\n",
    "    valid_ground_truth = problem.Predictions(\n",
    "        y_true=y_train,fold_is=valid_is)\n",
    "    test_ground_truth = problem.Predictions(y_true=y_test)\n",
    "    for score_type in problem.score_types:\n",
    "        train_score = score_type.score_function(\n",
    "            train_ground_truth, train_predictions)\n",
    "        valid_score = score_type.score_function(\n",
    "            valid_ground_truth, valid_predictions)\n",
    "        test_score = score_type.score_function(\n",
    "            test_ground_truth, test_predictions)\n",
    "        print(f'\\ttrain {score_type.name} = {train_score}')\n",
    "        print(f'\\tvalid {score_type.name} = {valid_score}')\n",
    "        print(f'\\ttest {score_type.name} = {test_score}')"
   ]
  }
 ],
 "metadata": {
  "kernelspec": {
   "display_name": ".venv",
   "language": "python",
   "name": "python3"
  },
  "language_info": {
   "codemirror_mode": {
    "name": "ipython",
    "version": 3
   },
   "file_extension": ".py",
   "mimetype": "text/x-python",
   "name": "python",
   "nbconvert_exporter": "python",
   "pygments_lexer": "ipython3",
   "version": "3.11.8"
  }
 },
 "nbformat": 4,
 "nbformat_minor": 2
}

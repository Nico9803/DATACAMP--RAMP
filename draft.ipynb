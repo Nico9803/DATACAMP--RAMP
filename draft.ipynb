{
 "cells": [
  {
   "cell_type": "code",
   "execution_count": 32,
   "metadata": {},
   "outputs": [],
   "source": [
    "### WE TEST THE WORKFLOW\n",
    "from rampwf.utils import assert_read_problem\n",
    "problem = assert_read_problem()\n",
    "\n"
   ]
  },
  {
   "cell_type": "code",
   "execution_count": 33,
   "metadata": {},
   "outputs": [],
   "source": [
    "\n",
    "X_train, y_train = problem.get_train_data()\n",
    "X_test, y_test = problem.get_test_data()\n"
   ]
  },
  {
   "cell_type": "code",
   "execution_count": 34,
   "metadata": {},
   "outputs": [
    {
     "data": {
      "text/plain": [
       "((6000, 64, 64), (6000, 102400), (1500, 64, 64), (1500, 102400))"
      ]
     },
     "execution_count": 34,
     "metadata": {},
     "output_type": "execute_result"
    }
   ],
   "source": [
    "X_train.shape, y_train.shape, X_test.shape, y_test.shape"
   ]
  },
  {
   "cell_type": "code",
   "execution_count": 35,
   "metadata": {},
   "outputs": [
    {
     "name": "stderr",
     "output_type": "stream",
     "text": [
      "750it [00:35, 21.08it/s]\n"
     ]
    },
    {
     "name": "stdout",
     "output_type": "stream",
     "text": [
      "Epoch 1/2, Loss: 0.08096202108760675\n"
     ]
    },
    {
     "name": "stderr",
     "output_type": "stream",
     "text": [
      "750it [00:33, 22.43it/s]\n"
     ]
    },
    {
     "name": "stdout",
     "output_type": "stream",
     "text": [
      "Epoch 2/2, Loss: 0.06839219459394615\n"
     ]
    }
   ],
   "source": [
    "trained_workflow = problem.workflow.train_submission(\n",
    "    'submissions/starting_kit', X_train, y_train)\n"
   ]
  },
  {
   "cell_type": "code",
   "execution_count": 36,
   "metadata": {},
   "outputs": [],
   "source": [
    "y_pred_test = problem.workflow.test_submission(\n",
    "    trained_workflow, X_test)\n"
   ]
  },
  {
   "cell_type": "code",
   "execution_count": 37,
   "metadata": {},
   "outputs": [
    {
     "data": {
      "text/plain": [
       "(1500, 102400)"
      ]
     },
     "execution_count": 37,
     "metadata": {},
     "output_type": "execute_result"
    }
   ],
   "source": [
    "y_pred_test.shape"
   ]
  },
  {
   "cell_type": "code",
   "execution_count": 38,
   "metadata": {},
   "outputs": [
    {
     "data": {
      "text/plain": [
       "(1500, 102400)"
      ]
     },
     "execution_count": 38,
     "metadata": {},
     "output_type": "execute_result"
    }
   ],
   "source": [
    "y_test.shape"
   ]
  },
  {
   "cell_type": "code",
   "execution_count": 39,
   "metadata": {},
   "outputs": [],
   "source": [
    "test_predictions = problem.Predictions(y_pred=y_pred_test)\n"
   ]
  },
  {
   "cell_type": "code",
   "execution_count": 40,
   "metadata": {},
   "outputs": [],
   "source": [
    "test_ground_truth = problem.Predictions(y_true=y_test)"
   ]
  },
  {
   "cell_type": "code",
   "execution_count": 41,
   "metadata": {},
   "outputs": [
    {
     "name": "stdout",
     "output_type": "stream",
     "text": [
      "RMSE = 0.25181775208182566\n"
     ]
    }
   ],
   "source": [
    "for score_type in problem.score_types:\n",
    "    score = score_type.score_function(\n",
    "        test_ground_truth, test_predictions)\n",
    "    print(f'{score_type.name} = {score}')"
   ]
  },
  {
   "cell_type": "code",
   "execution_count": 42,
   "metadata": {},
   "outputs": [],
   "source": [
    "cv = problem.get_cv(X_train, y_train)"
   ]
  },
  {
   "cell_type": "code",
   "execution_count": 43,
   "metadata": {},
   "outputs": [
    {
     "name": "stdout",
     "output_type": "stream",
     "text": [
      "fold 0:\n"
     ]
    },
    {
     "name": "stderr",
     "output_type": "stream",
     "text": [
      "600it [00:28, 21.26it/s]\n"
     ]
    },
    {
     "name": "stdout",
     "output_type": "stream",
     "text": [
      "Epoch 1/2, Loss: 0.08294307429343462\n"
     ]
    },
    {
     "name": "stderr",
     "output_type": "stream",
     "text": [
      "600it [00:24, 24.58it/s]\n"
     ]
    },
    {
     "name": "stdout",
     "output_type": "stream",
     "text": [
      "Epoch 2/2, Loss: 0.07052731787785887\n"
     ]
    },
    {
     "ename": "MemoryError",
     "evalue": "",
     "output_type": "error",
     "traceback": [
      "\u001b[1;31m---------------------------------------------------------------------------\u001b[0m",
      "\u001b[1;31mMemoryError\u001b[0m                               Traceback (most recent call last)",
      "Cell \u001b[1;32mIn[43], line 20\u001b[0m\n\u001b[0;32m     18\u001b[0m test_ground_truth \u001b[38;5;241m=\u001b[39m problem\u001b[38;5;241m.\u001b[39mPredictions(y_true\u001b[38;5;241m=\u001b[39my_test)\n\u001b[0;32m     19\u001b[0m \u001b[38;5;28;01mfor\u001b[39;00m score_type \u001b[38;5;129;01min\u001b[39;00m problem\u001b[38;5;241m.\u001b[39mscore_types:\n\u001b[1;32m---> 20\u001b[0m     train_score \u001b[38;5;241m=\u001b[39m \u001b[43mscore_type\u001b[49m\u001b[38;5;241;43m.\u001b[39;49m\u001b[43mscore_function\u001b[49m\u001b[43m(\u001b[49m\n\u001b[0;32m     21\u001b[0m \u001b[43m        \u001b[49m\u001b[43mtrain_ground_truth\u001b[49m\u001b[43m,\u001b[49m\u001b[43m \u001b[49m\u001b[43mtrain_predictions\u001b[49m\u001b[43m)\u001b[49m\n\u001b[0;32m     22\u001b[0m     valid_score \u001b[38;5;241m=\u001b[39m score_type\u001b[38;5;241m.\u001b[39mscore_function(\n\u001b[0;32m     23\u001b[0m         valid_ground_truth, valid_predictions)\n\u001b[0;32m     24\u001b[0m     test_score \u001b[38;5;241m=\u001b[39m score_type\u001b[38;5;241m.\u001b[39mscore_function(\n\u001b[0;32m     25\u001b[0m         test_ground_truth, test_predictions)\n",
      "File \u001b[1;32mc:\\Users\\Sébastien Mandela\\OneDrive\\Documents\\École Polytechnique\\4A\\Datacamp\\project_datacamp\\picture_reconstruction\\.venv\\Lib\\site-packages\\rampwf\\score_types\\base.py:20\u001b[0m, in \u001b[0;36mBaseScoreType.score_function\u001b[1;34m(self, ground_truths, predictions)\u001b[0m\n\u001b[0;32m     18\u001b[0m y_pred \u001b[38;5;241m=\u001b[39m predictions\u001b[38;5;241m.\u001b[39my_pred\n\u001b[0;32m     19\u001b[0m \u001b[38;5;28mself\u001b[39m\u001b[38;5;241m.\u001b[39mcheck_y_pred_dimensions(y_true, y_pred)\n\u001b[1;32m---> 20\u001b[0m \u001b[38;5;28;01mreturn\u001b[39;00m \u001b[38;5;28;43mself\u001b[39;49m\u001b[38;5;241;43m.\u001b[39;49m\u001b[38;5;21;43m__call__\u001b[39;49m\u001b[43m(\u001b[49m\u001b[43my_true\u001b[49m\u001b[43m,\u001b[49m\u001b[43m \u001b[49m\u001b[43my_pred\u001b[49m\u001b[43m)\u001b[49m\n",
      "File \u001b[1;32mc:\\Users\\Sébastien Mandela\\OneDrive\\Documents\\École Polytechnique\\4A\\Datacamp\\project_datacamp\\picture_reconstruction\\.\\problem.py:31\u001b[0m, in \u001b[0;36mScore.__call__\u001b[1;34m(self, y_true, y_pred)\u001b[0m\n\u001b[0;32m     29\u001b[0m \u001b[38;5;28;01mdef\u001b[39;00m \u001b[38;5;21m__call__\u001b[39m(\u001b[38;5;28mself\u001b[39m, y_true, y_pred):\n\u001b[1;32m---> 31\u001b[0m     on_y_true \u001b[38;5;241m=\u001b[39m np\u001b[38;5;241m.\u001b[39marray(\u001b[43m[\u001b[49m\u001b[43mt\u001b[49m\u001b[43m \u001b[49m\u001b[38;5;28;43;01mfor\u001b[39;49;00m\u001b[43m \u001b[49m\u001b[43my\u001b[49m\u001b[43m \u001b[49m\u001b[38;5;129;43;01min\u001b[39;49;00m\u001b[43m \u001b[49m\u001b[43my_true\u001b[49m\u001b[43m \u001b[49m\u001b[38;5;28;43;01mfor\u001b[39;49;00m\u001b[43m \u001b[49m\u001b[43mt\u001b[49m\u001b[43m \u001b[49m\u001b[38;5;129;43;01min\u001b[39;49;00m\u001b[43m \u001b[49m\u001b[43my\u001b[49m\u001b[43m \u001b[49m\u001b[38;5;28;43;01mif\u001b[39;49;00m\u001b[43m \u001b[49m\u001b[43mt\u001b[49m\u001b[43m \u001b[49m\u001b[38;5;241;43m!=\u001b[39;49m\u001b[43m \u001b[49m\u001b[38;5;241;43m0\u001b[39;49m\u001b[43m]\u001b[49m)\n\u001b[0;32m     32\u001b[0m     on_y_pred \u001b[38;5;241m=\u001b[39m np\u001b[38;5;241m.\u001b[39marray([p \u001b[38;5;28;01mfor\u001b[39;00m y_hat, y \u001b[38;5;129;01min\u001b[39;00m \u001b[38;5;28mzip\u001b[39m(y_pred, y_true) \u001b[38;5;28;01mfor\u001b[39;00m p, t \u001b[38;5;129;01min\u001b[39;00m \u001b[38;5;28mzip\u001b[39m(y_hat, y) \u001b[38;5;28;01mif\u001b[39;00m t \u001b[38;5;241m!=\u001b[39m \u001b[38;5;241m0\u001b[39m])\n\u001b[0;32m     34\u001b[0m     \u001b[38;5;28;01mif\u001b[39;00m (on_y_pred \u001b[38;5;241m<\u001b[39m \u001b[38;5;241m0\u001b[39m)\u001b[38;5;241m.\u001b[39many():\n",
      "File \u001b[1;32mc:\\Users\\Sébastien Mandela\\OneDrive\\Documents\\École Polytechnique\\4A\\Datacamp\\project_datacamp\\picture_reconstruction\\.\\problem.py:31\u001b[0m, in \u001b[0;36m<listcomp>\u001b[1;34m(.0)\u001b[0m\n\u001b[0;32m     29\u001b[0m \u001b[38;5;28;01mdef\u001b[39;00m \u001b[38;5;21m__call__\u001b[39m(\u001b[38;5;28mself\u001b[39m, y_true, y_pred):\n\u001b[1;32m---> 31\u001b[0m     on_y_true \u001b[38;5;241m=\u001b[39m np\u001b[38;5;241m.\u001b[39marray([t \u001b[38;5;28;01mfor\u001b[39;00m y \u001b[38;5;129;01min\u001b[39;00m y_true \u001b[38;5;28;01mfor\u001b[39;00m t \u001b[38;5;129;01min\u001b[39;00m y \u001b[38;5;28;01mif\u001b[39;00m t \u001b[38;5;241m!=\u001b[39m \u001b[38;5;241m0\u001b[39m])\n\u001b[0;32m     32\u001b[0m     on_y_pred \u001b[38;5;241m=\u001b[39m np\u001b[38;5;241m.\u001b[39marray([p \u001b[38;5;28;01mfor\u001b[39;00m y_hat, y \u001b[38;5;129;01min\u001b[39;00m \u001b[38;5;28mzip\u001b[39m(y_pred, y_true) \u001b[38;5;28;01mfor\u001b[39;00m p, t \u001b[38;5;129;01min\u001b[39;00m \u001b[38;5;28mzip\u001b[39m(y_hat, y) \u001b[38;5;28;01mif\u001b[39;00m t \u001b[38;5;241m!=\u001b[39m \u001b[38;5;241m0\u001b[39m])\n\u001b[0;32m     34\u001b[0m     \u001b[38;5;28;01mif\u001b[39;00m (on_y_pred \u001b[38;5;241m<\u001b[39m \u001b[38;5;241m0\u001b[39m)\u001b[38;5;241m.\u001b[39many():\n",
      "\u001b[1;31mMemoryError\u001b[0m: "
     ]
    }
   ],
   "source": [
    "for fold_i, (train_is, valid_is) in enumerate(cv):\n",
    "    print(f'fold {fold_i}:')\n",
    "    trained_workflow = problem.workflow.train_submission(\n",
    "        'submissions/starting_kit', X_train, y_train, train_is)\n",
    "    y_pred_train = problem.workflow.test_submission(\n",
    "        trained_workflow, X_train)\n",
    "    y_pred_test = problem.workflow.test_submission(\n",
    "        trained_workflow, X_test)\n",
    "    train_predictions = problem.Predictions(\n",
    "        y_pred=y_pred_train, fold_is=train_is)\n",
    "    valid_predictions = problem.Predictions(\n",
    "        y_pred=y_pred_train, fold_is=valid_is)\n",
    "    test_predictions = problem.Predictions(y_pred=y_pred_test)\n",
    "    train_ground_truth = problem.Predictions(\n",
    "        y_true=y_train, fold_is=train_is)\n",
    "    valid_ground_truth = problem.Predictions(\n",
    "        y_true=y_train,fold_is=valid_is)\n",
    "    test_ground_truth = problem.Predictions(y_true=y_test)\n",
    "    for score_type in problem.score_types:\n",
    "        train_score = score_type.score_function(\n",
    "            train_ground_truth, train_predictions)\n",
    "        valid_score = score_type.score_function(\n",
    "            valid_ground_truth, valid_predictions)\n",
    "        test_score = score_type.score_function(\n",
    "            test_ground_truth, test_predictions)\n",
    "        print(f'\\ttrain {score_type.name} = {train_score}')\n",
    "        print(f'\\tvalid {score_type.name} = {valid_score}')\n",
    "        print(f'\\ttest {score_type.name} = {test_score}')"
   ]
  }
 ],
 "metadata": {
  "kernelspec": {
   "display_name": ".venv",
   "language": "python",
   "name": "python3"
  },
  "language_info": {
   "codemirror_mode": {
    "name": "ipython",
    "version": 3
   },
   "file_extension": ".py",
   "mimetype": "text/x-python",
   "name": "python",
   "nbconvert_exporter": "python",
   "pygments_lexer": "ipython3",
   "version": "3.11.8"
  }
 },
 "nbformat": 4,
 "nbformat_minor": 2
}

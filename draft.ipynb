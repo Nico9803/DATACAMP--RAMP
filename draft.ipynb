{
 "cells": [
  {
   "cell_type": "code",
   "execution_count": 1,
   "metadata": {},
   "outputs": [],
   "source": [
    "### WE TEST THE WORKFLOW\n",
    "from rampwf.utils import assert_read_problem\n",
    "problem = assert_read_problem()\n",
    "\n"
   ]
  },
  {
   "cell_type": "code",
   "execution_count": 2,
   "metadata": {},
   "outputs": [],
   "source": [
    "## currently ~2min50\n",
    "X_train, y_train = problem.get_train_data()\n",
    "X_test, y_test = problem.get_test_data()\n"
   ]
  },
  {
   "cell_type": "code",
   "execution_count": 3,
   "metadata": {},
   "outputs": [
    {
     "data": {
      "text/plain": [
       "((3000, 64, 64), (3000, 16384), (500, 64, 64), (500, 16384))"
      ]
     },
     "execution_count": 3,
     "metadata": {},
     "output_type": "execute_result"
    }
   ],
   "source": [
    "X_train.shape, y_train.shape, X_test.shape, y_test.shape"
   ]
  },
  {
   "cell_type": "code",
   "execution_count": 4,
   "metadata": {},
   "outputs": [
    {
     "name": "stderr",
     "output_type": "stream",
     "text": [
      "375it [00:12, 31.12it/s]\n"
     ]
    },
    {
     "name": "stdout",
     "output_type": "stream",
     "text": [
      "Epoch 1/2, Loss: 0.0848205993672212\n"
     ]
    },
    {
     "name": "stderr",
     "output_type": "stream",
     "text": [
      "375it [00:12, 29.18it/s]"
     ]
    },
    {
     "name": "stdout",
     "output_type": "stream",
     "text": [
      "Epoch 2/2, Loss: 0.07005039530992507\n"
     ]
    },
    {
     "name": "stderr",
     "output_type": "stream",
     "text": [
      "\n"
     ]
    }
   ],
   "source": [
    "trained_workflow = problem.workflow.train_submission(\n",
    "    'submissions/starting_kit', X_train, y_train)\n"
   ]
  },
  {
   "cell_type": "code",
   "execution_count": 5,
   "metadata": {},
   "outputs": [],
   "source": [
    "y_pred_test = problem.workflow.test_submission(\n",
    "    trained_workflow, X_test)\n"
   ]
  },
  {
   "cell_type": "code",
   "execution_count": 6,
   "metadata": {},
   "outputs": [
    {
     "data": {
      "text/plain": [
       "(500, 16384)"
      ]
     },
     "execution_count": 6,
     "metadata": {},
     "output_type": "execute_result"
    }
   ],
   "source": [
    "y_pred_test.shape"
   ]
  },
  {
   "cell_type": "code",
   "execution_count": 7,
   "metadata": {},
   "outputs": [
    {
     "data": {
      "text/plain": [
       "(500, 16384)"
      ]
     },
     "execution_count": 7,
     "metadata": {},
     "output_type": "execute_result"
    }
   ],
   "source": [
    "y_test.shape"
   ]
  },
  {
   "cell_type": "code",
   "execution_count": 8,
   "metadata": {},
   "outputs": [],
   "source": [
    "test_predictions = problem.Predictions(y_pred=y_pred_test)\n"
   ]
  },
  {
   "cell_type": "code",
   "execution_count": 9,
   "metadata": {},
   "outputs": [],
   "source": [
    "test_ground_truth = problem.Predictions(y_true=y_test)"
   ]
  },
  {
   "cell_type": "code",
   "execution_count": 11,
   "metadata": {},
   "outputs": [
    {
     "name": "stdout",
     "output_type": "stream",
     "text": [
      "RMSE = 0.250688374042511\n"
     ]
    }
   ],
   "source": [
    "for score_type in problem.score_types:\n",
    "    score = score_type.score_function(\n",
    "        test_ground_truth, test_predictions)\n",
    "    print(f'{score_type.name} = {score}')"
   ]
  },
  {
   "cell_type": "code",
   "execution_count": 12,
   "metadata": {},
   "outputs": [],
   "source": [
    "cv = problem.get_cv(X_train, y_train)"
   ]
  },
  {
   "cell_type": "code",
   "execution_count": 13,
   "metadata": {},
   "outputs": [
    {
     "name": "stdout",
     "output_type": "stream",
     "text": [
      "fold 0:\n"
     ]
    },
    {
     "name": "stderr",
     "output_type": "stream",
     "text": [
      "250it [00:10, 24.31it/s]\n"
     ]
    },
    {
     "name": "stdout",
     "output_type": "stream",
     "text": [
      "Epoch 1/2, Loss: 0.08944301444292069\n"
     ]
    },
    {
     "name": "stderr",
     "output_type": "stream",
     "text": [
      "250it [00:09, 27.38it/s]\n"
     ]
    },
    {
     "name": "stdout",
     "output_type": "stream",
     "text": [
      "Epoch 2/2, Loss: 0.0724215437322855\n",
      "\ttrain RMSE = 0.2558972239494324\n",
      "\tvalid RMSE = 0.2579762041568756\n",
      "\ttest RMSE = 0.25235119462013245\n",
      "fold 1:\n"
     ]
    },
    {
     "name": "stderr",
     "output_type": "stream",
     "text": [
      "250it [00:10, 24.70it/s]\n"
     ]
    },
    {
     "name": "stdout",
     "output_type": "stream",
     "text": [
      "Epoch 1/2, Loss: 0.08878451503813267\n"
     ]
    },
    {
     "name": "stderr",
     "output_type": "stream",
     "text": [
      "250it [00:09, 26.36it/s]\n"
     ]
    },
    {
     "name": "stdout",
     "output_type": "stream",
     "text": [
      "Epoch 2/2, Loss: 0.07257082621753216\n",
      "\ttrain RMSE = 0.26037928462028503\n",
      "\tvalid RMSE = 0.26103225350379944\n",
      "\ttest RMSE = 0.25457245111465454\n",
      "fold 2:\n"
     ]
    },
    {
     "name": "stderr",
     "output_type": "stream",
     "text": [
      "250it [00:09, 26.51it/s]\n"
     ]
    },
    {
     "name": "stdout",
     "output_type": "stream",
     "text": [
      "Epoch 1/2, Loss: 0.09296706338226796\n"
     ]
    },
    {
     "name": "stderr",
     "output_type": "stream",
     "text": [
      "250it [00:09, 27.64it/s]\n"
     ]
    },
    {
     "name": "stdout",
     "output_type": "stream",
     "text": [
      "Epoch 2/2, Loss: 0.07491581051051617\n",
      "\ttrain RMSE = 0.25167617201805115\n",
      "\tvalid RMSE = 0.25037533044815063\n",
      "\ttest RMSE = 0.24626238644123077\n"
     ]
    }
   ],
   "source": [
    "for fold_i, (train_is, valid_is) in enumerate(cv):\n",
    "    print(f'fold {fold_i}:')\n",
    "    trained_workflow = problem.workflow.train_submission(\n",
    "        'submissions/starting_kit', X_train, y_train, train_is)\n",
    "    y_pred_train = problem.workflow.test_submission(\n",
    "        trained_workflow, X_train)\n",
    "    y_pred_test = problem.workflow.test_submission(\n",
    "        trained_workflow, X_test)\n",
    "    train_predictions = problem.Predictions(\n",
    "        y_pred=y_pred_train, fold_is=train_is)\n",
    "    valid_predictions = problem.Predictions(\n",
    "        y_pred=y_pred_train, fold_is=valid_is)\n",
    "    test_predictions = problem.Predictions(y_pred=y_pred_test)\n",
    "    train_ground_truth = problem.Predictions(\n",
    "        y_true=y_train, fold_is=train_is)\n",
    "    valid_ground_truth = problem.Predictions(\n",
    "        y_true=y_train,fold_is=valid_is)\n",
    "    test_ground_truth = problem.Predictions(y_true=y_test)\n",
    "    for score_type in problem.score_types:\n",
    "        train_score = score_type.score_function(\n",
    "            train_ground_truth, train_predictions)\n",
    "        valid_score = score_type.score_function(\n",
    "            valid_ground_truth, valid_predictions)\n",
    "        test_score = score_type.score_function(\n",
    "            test_ground_truth, test_predictions)\n",
    "        print(f'\\ttrain {score_type.name} = {train_score}')\n",
    "        print(f'\\tvalid {score_type.name} = {valid_score}')\n",
    "        print(f'\\ttest {score_type.name} = {test_score}')"
   ]
  }
 ],
 "metadata": {
  "kernelspec": {
   "display_name": ".venv",
   "language": "python",
   "name": "python3"
  },
  "language_info": {
   "codemirror_mode": {
    "name": "ipython",
    "version": 3
   },
   "file_extension": ".py",
   "mimetype": "text/x-python",
   "name": "python",
   "nbconvert_exporter": "python",
   "pygments_lexer": "ipython3",
   "version": "3.11.8"
  }
 },
 "nbformat": 4,
 "nbformat_minor": 2
}

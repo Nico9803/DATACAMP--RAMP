{
 "cells": [
  {
   "cell_type": "markdown",
   "metadata": {},
   "source": [
    "# RAMP: Picture reconstruction\n",
    "*Alexia Allal, Gabriel Buffet, Stéphane Dumas, Nicolas Giraudet de Boudemange, Sébastien Mandela Yvon, Jérémy Pinault from IPP/M2DS*\n",
    "\n",
    "AJOUTER LOGO IPP\n",
    "<!-- <div>\n",
    "<table style=\"width:100%; background-color:transparent;\">\n",
    "  <tr style=\"background-color:transparent;\">\n",
    "    <td align=\"left\"; style=\"background-color:transparent; width: 40%;\">\n",
    "        <a href=\"https://dataia.eu\">\n",
    "            <img src=\"https://github.com/ramp-kits/tephra/raw/main/img/DATAIA-h.png\" width=\"450px\"/>\n",
    "        </a>\n",
    "    </td>\n",
    "    <td align=\"right\"; style=\"background-color:transparent; width: 40%;\">\n",
    "        <a href=\"https://www.geops.universite-paris-saclay.fr/\">\n",
    "            <img src=\"https://github.com/ramp-kits/tephra/raw/main/img/LOGO-GEOPS-2020-1024x488-1.jpg\" width=\"350px\"/>\n",
    "        </a>\n",
    "    </td>\n",
    "  </tr>\n",
    " </table>\n",
    "</div> -->\n",
    "\n",
    "\n",
    "CHANGER TABLE DES MATIERES\n",
    "## Table of Contents\n",
    "* [Introduction](#introduction)\n",
    "* [The dataset](#dataset)\n",
    "* [Data exploration](#exploration)\n",
    "* [Requirements](#requirements)\n",
    "* [Base model](#base_model)\n",
    "* [Submitting on RAMP](#submitting)"
   ]
  },
  {
   "cell_type": "markdown",
   "metadata": {},
   "source": [
    "## Introduction <a class=\"anchor\" id=\"introduction\"></a>\n",
    "The Unsplash Dataset is made up of over 350,000+ contributing global photographers and data sourced from hundreds of millions of searches across a nearly unlimited number of uses and contexts. Due to the breadth of intent and semantics contained within the Unsplash dataset, it enables new opportunities for research and learning.\n",
    "\n",
    "The Unsplash Dataset is offered in two datasets:\n",
    "\n",
    "* the Lite dataset: available for commercial and noncommercial usage, containing 25k nature-themed Unsplash photos, 25k keywords, and 1M searches\n",
    "* the Full dataset: available for noncommercial usage, containing 5.4M+ high-quality Unsplash photos, 5M keywords, and over 250M searches\n",
    "\n",
    "As the Unsplash library continues to grow, we’ll release updates to the dataset with new fields and new images, with each subsequent release being [semantically versioned](https://semver.org/).\n",
    "\n",
    "We welcome any feedback regarding the content of the datasets or their format. With your input, we hope to close the gap between the data we provide and the data that you would like to leverage. You can [open an issue](https://github.com/unsplash/datasets/issues/new/choose) to report a problem or to let us know what you would like to see in the next release of the datasets.\n",
    "\n",
    "For more on the Unsplash Dataset, see the [announcement](https://unsplash.com/blog/the-unsplash-dataset/) and [site](https://unsplash.com/data).\n",
    "\n",
    "To create this challenge, we use the Lite dataset and we downgrade the quality of the images.\n",
    "\n",
    "The goal of our challenge is to reconstruct the original pictures."
   ]
  },
  {
   "cell_type": "markdown",
   "metadata": {},
   "source": [
    "## The dataset <a class=\"anchor\" id=\"dataset\"></a>\n",
    "\n",
    "\n",
    "In the Dataset, you will find the original picture (the ground truth) that you must to reconstruct with a low resolution version of this image.\n",
    "\n",
    "The low resolution image has been obtained with a simple downsampling by a factor of 5 in each spatial dimension and conversion to black & white.\n",
    "\n",
    "For example, if the original picture has a shape of (800, 640, 3) (Height, Width, Channels), you will be provided with a low resolution version of the orginial picure with a shape (160, 128).\n",
    "\n",
    "The Public Dataset you get access contains 15 000 pictures."
   ]
  },
  {
   "cell_type": "markdown",
   "metadata": {},
   "source": [
    "## Setup <a name=Setup></a>\n",
    "### Prerequisites\n",
    "The following cell will install the required package dependencies, if necessary. You can examine the file, `requirements.txt`, included in the repo to view the list of dependencies.\n"
   ]
  },
  {
   "cell_type": "code",
   "execution_count": 1,
   "metadata": {},
   "outputs": [
    {
     "name": "stdout",
     "output_type": "stream",
     "text": [
      "Requirement already satisfied: scikit-learn in /Users/sdumas/anaconda3/lib/python3.11/site-packages (from -r requirements.txt (line 1)) (1.3.0)\n",
      "Requirement already satisfied: ramp in /Users/sdumas/anaconda3/lib/python3.11/site-packages (from -r requirements.txt (line 2)) (0.1.4)\n",
      "Requirement already satisfied: gdown in /Users/sdumas/anaconda3/lib/python3.11/site-packages (from -r requirements.txt (line 3)) (5.1.0)\n",
      "Requirement already satisfied: numpy>=1.17.3 in /Users/sdumas/anaconda3/lib/python3.11/site-packages (from scikit-learn->-r requirements.txt (line 1)) (1.24.3)\n",
      "Requirement already satisfied: scipy>=1.5.0 in /Users/sdumas/anaconda3/lib/python3.11/site-packages (from scikit-learn->-r requirements.txt (line 1)) (1.11.1)\n",
      "Requirement already satisfied: joblib>=1.1.1 in /Users/sdumas/anaconda3/lib/python3.11/site-packages (from scikit-learn->-r requirements.txt (line 1)) (1.2.0)\n",
      "Requirement already satisfied: threadpoolctl>=2.0.0 in /Users/sdumas/anaconda3/lib/python3.11/site-packages (from scikit-learn->-r requirements.txt (line 1)) (2.2.0)\n",
      "Requirement already satisfied: beautifulsoup4 in /Users/sdumas/anaconda3/lib/python3.11/site-packages (from gdown->-r requirements.txt (line 3)) (4.12.2)\n",
      "Requirement already satisfied: filelock in /Users/sdumas/anaconda3/lib/python3.11/site-packages (from gdown->-r requirements.txt (line 3)) (3.9.0)\n",
      "Requirement already satisfied: requests[socks] in /Users/sdumas/anaconda3/lib/python3.11/site-packages (from gdown->-r requirements.txt (line 3)) (2.31.0)\n",
      "Requirement already satisfied: tqdm in /Users/sdumas/anaconda3/lib/python3.11/site-packages (from gdown->-r requirements.txt (line 3)) (4.65.0)\n",
      "Requirement already satisfied: soupsieve>1.2 in /Users/sdumas/anaconda3/lib/python3.11/site-packages (from beautifulsoup4->gdown->-r requirements.txt (line 3)) (2.4)\n",
      "Requirement already satisfied: charset-normalizer<4,>=2 in /Users/sdumas/anaconda3/lib/python3.11/site-packages (from requests[socks]->gdown->-r requirements.txt (line 3)) (2.0.4)\n",
      "Requirement already satisfied: idna<4,>=2.5 in /Users/sdumas/anaconda3/lib/python3.11/site-packages (from requests[socks]->gdown->-r requirements.txt (line 3)) (3.4)\n",
      "Requirement already satisfied: urllib3<3,>=1.21.1 in /Users/sdumas/anaconda3/lib/python3.11/site-packages (from requests[socks]->gdown->-r requirements.txt (line 3)) (1.26.16)\n",
      "Requirement already satisfied: certifi>=2017.4.17 in /Users/sdumas/anaconda3/lib/python3.11/site-packages (from requests[socks]->gdown->-r requirements.txt (line 3)) (2023.11.17)\n",
      "Requirement already satisfied: PySocks!=1.5.7,>=1.5.6 in /Users/sdumas/anaconda3/lib/python3.11/site-packages (from requests[socks]->gdown->-r requirements.txt (line 3)) (1.7.1)\n"
     ]
    }
   ],
   "source": [
    "import sys\n",
    "!{sys.executable} -m pip install -r requirements.txt"
   ]
  },
  {
   "cell_type": "markdown",
   "metadata": {},
   "source": [
    "# Data exploration <a name=data_exp></a>"
   ]
  },
  {
   "cell_type": "markdown",
   "metadata": {},
   "source": [
    "## Data download\n",
    "\n",
    "Data are avaialable on a public drive that we can retrieve with the download_data script"
   ]
  },
  {
   "cell_type": "code",
   "execution_count": 2,
   "metadata": {},
   "outputs": [
    {
     "name": "stderr",
     "output_type": "stream",
     "text": [
      "Retrieving folder contents\n"
     ]
    },
    {
     "name": "stdout",
     "output_type": "stream",
     "text": [
      "Processing file 15_JmH8kON-UGzjYKTR2wfZAAvxGst2w1 Test.tgz\n",
      "Processing file 12ZLgUo4Zq7_JbBsA5lxJznwZ3QDH1pxk Train.tgz\n"
     ]
    },
    {
     "name": "stderr",
     "output_type": "stream",
     "text": [
      "Retrieving folder contents completed\n",
      "Building directory structure\n",
      "Building directory structure completed\n",
      "Downloading...\n",
      "From (original): https://drive.google.com/uc?id=15_JmH8kON-UGzjYKTR2wfZAAvxGst2w1\n",
      "From (redirected): https://drive.google.com/uc?id=15_JmH8kON-UGzjYKTR2wfZAAvxGst2w1&confirm=t&uuid=7c261c2f-491e-48b6-8540-794d284e436c\n",
      "To: /Users/sdumas/Documents/MASTER_DS/Data_Camp/ZZ_Data_challenge_group/Git/picture_reconstruction/picture_reconstruction_dataset/Test.tgz\n",
      "100%|██████████| 288M/288M [01:55<00:00, 2.49MB/s] \n",
      "Downloading...\n",
      "From (original): https://drive.google.com/uc?id=12ZLgUo4Zq7_JbBsA5lxJznwZ3QDH1pxk\n",
      "From (redirected): https://drive.google.com/uc?id=12ZLgUo4Zq7_JbBsA5lxJznwZ3QDH1pxk&confirm=t&uuid=b94da8c6-c5b8-4271-af11-540b8be46472\n",
      "To: /Users/sdumas/Documents/MASTER_DS/Data_Camp/ZZ_Data_challenge_group/Git/picture_reconstruction/picture_reconstruction_dataset/Train.tgz\n",
      "100%|██████████| 575M/575M [04:15<00:00, 2.25MB/s] "
     ]
    },
    {
     "name": "stdout",
     "output_type": "stream",
     "text": [
      "https://drive.google.com/drive/folders/1rwiMe6sSarsf51fMp_Rh_hgeTOI5WzVn\n"
     ]
    },
    {
     "name": "stderr",
     "output_type": "stream",
     "text": [
      "\n",
      "Download completed\n"
     ]
    }
   ],
   "source": [
    "# Uncomment the following line to download data:\n",
    "import download_data\n",
    "# download_data.data_fetch()"
   ]
  },
  {
   "cell_type": "markdown",
   "metadata": {},
   "source": [
    "Then, we must decrypt the data."
   ]
  },
  {
   "cell_type": "code",
   "execution_count": 3,
   "metadata": {},
   "outputs": [
    {
     "data": {
      "text/plain": [
       "0"
      ]
     },
     "execution_count": 3,
     "metadata": {},
     "output_type": "execute_result"
    }
   ],
   "source": [
    "import getpass, subprocess\n",
    "## Decrypt the data.\n",
    "subprocess.call(['tar', '-xzf', 'picture_reconstruction_dataset/Train.tgz'])"
   ]
  },
  {
   "cell_type": "markdown",
   "metadata": {},
   "source": [
    "## Visualize data <a name=visualize></a>"
   ]
  },
  {
   "cell_type": "markdown",
   "metadata": {},
   "source": []
  },
  {
   "cell_type": "markdown",
   "metadata": {},
   "source": [
    "## Data Exploration <a class=\"anchor\" id=\"exploration\"></a>"
   ]
  },
  {
   "cell_type": "markdown",
   "metadata": {},
   "source": [
    "### Training data"
   ]
  },
  {
   "cell_type": "code",
   "execution_count": null,
   "metadata": {},
   "outputs": [],
   "source": [
    "train_df = pd.read_csv(...\n",
    "train_df"
   ]
  },
  {
   "cell_type": "code",
   "execution_count": null,
   "metadata": {},
   "outputs": [],
   "source": [
    "test_df = pd.read_csv(...\n",
    "test_df"
   ]
  },
  {
   "cell_type": "code",
   "execution_count": null,
   "metadata": {},
   "outputs": [],
   "source": [
    "train_df.columns"
   ]
  },
  {
   "cell_type": "code",
   "execution_count": null,
   "metadata": {},
   "outputs": [],
   "source": []
  },
  {
   "cell_type": "markdown",
   "metadata": {},
   "source": [
    "## Base model <a class=\"anchor\" id=\"base_model\"></a>"
   ]
  },
  {
   "cell_type": "markdown",
   "metadata": {},
   "source": [
    "CREATION DES X_TRAIN ET Y_TRAIN, ET X_TEST ET Y_TEST"
   ]
  },
  {
   "cell_type": "code",
   "execution_count": null,
   "metadata": {},
   "outputs": [],
   "source": [
    "X_train_df = ..\n",
    "Y_train_df = .."
   ]
  },
  {
   "cell_type": "code",
   "execution_count": null,
   "metadata": {},
   "outputs": [],
   "source": [
    "X_test_df = ..\n",
    "Y_test_df = .."
   ]
  },
  {
   "cell_type": "markdown",
   "metadata": {},
   "source": [
    "Imputation and scaling of the data."
   ]
  },
  {
   "cell_type": "code",
   "execution_count": 25,
   "metadata": {},
   "outputs": [],
   "source": [
    "numeric_transformer = Pipeline(\n",
    "    steps=[(\"imputer\", SimpleImputer(strategy=\"median\")), (\"scaler\", StandardScaler())]\n",
    ")"
   ]
  },
  {
   "cell_type": "markdown",
   "metadata": {},
   "source": [
    "Classifier: here we take a simple model, logistic regression."
   ]
  },
  {
   "cell_type": "code",
   "execution_count": 184,
   "metadata": {},
   "outputs": [],
   "source": [
    "clf = Pipeline(\n",
    "    steps=[(\"transformer\", numeric_transformer), (\"classifier\", LogisticRegression(max_iter=500))]\n",
    ")"
   ]
  },
  {
   "cell_type": "markdown",
   "metadata": {},
   "source": [
    "Let's fit the pipeline on train data:"
   ]
  },
  {
   "cell_type": "code",
   "execution_count": null,
   "metadata": {},
   "outputs": [],
   "source": [
    "clf.fit(X_train, y_train)\n",
    "clf"
   ]
  },
  {
   "cell_type": "markdown",
   "metadata": {},
   "source": [
    "Evaluation on test data:"
   ]
  },
  {
   "cell_type": "code",
   "execution_count": 186,
   "metadata": {},
   "outputs": [],
   "source": [
    "y_pred = clf.predict(X_test)"
   ]
  },
  {
   "cell_type": "code",
   "execution_count": null,
   "metadata": {},
   "outputs": [],
   "source": [
    "y_pred.shape"
   ]
  },
  {
   "cell_type": "markdown",
   "metadata": {},
   "source": [
    "Accuracy score and balanced accuracy score"
   ]
  },
  {
   "cell_type": "code",
   "execution_count": null,
   "metadata": {},
   "outputs": [],
   "source": [
    "accuracy_score(y_test, y_pred)"
   ]
  },
  {
   "cell_type": "code",
   "execution_count": null,
   "metadata": {},
   "outputs": [],
   "source": [
    "print(classification_report(y_test, y_pred))"
   ]
  },
  {
   "cell_type": "markdown",
   "metadata": {},
   "source": [
    "Confusion matrix:"
   ]
  },
  {
   "cell_type": "code",
   "execution_count": null,
   "metadata": {},
   "outputs": [],
   "source": [
    "disp = ConfusionMatrixDisplay.from_predictions(y_test, y_pred)\n",
    "fig = disp.figure_\n",
    "fig.set_figwidth(10)\n",
    "fig.set_figheight(10)  "
   ]
  },
  {
   "cell_type": "markdown",
   "metadata": {},
   "source": [
    "Balanced accuracy score will be used as the leaderboard score."
   ]
  },
  {
   "cell_type": "code",
   "execution_count": null,
   "metadata": {},
   "outputs": [],
   "source": [
    "balanced_accuracy_score(y_test, y_pred)"
   ]
  },
  {
   "cell_type": "markdown",
   "metadata": {},
   "source": [
    "This is the score to beat in this challenge."
   ]
  },
  {
   "cell_type": "markdown",
   "metadata": {},
   "source": [
    "## Submitting to the online challenge: [ramp.studio](https://ramp.studio) <a class=\"anchor\" id=\"submitting\"></a>\n",
    "\n",
    "Once you found a good model, you can submit them to [ramp.studio](https://www.ramp.studio) to enter the online challenge. First, if it is your first time using the RAMP platform, [sign up](https://www.ramp.studio/sign_up), otherwise [log in](https://www.ramp.studio/login). Then sign up to the event [tephra](http://www.ramp.studio/events/tephra_datacamp2023). Both signups are controled by RAMP administrators, so there **can be a delay between asking for signup and being able to submit**.\n",
    "\n",
    "Once your signup request is accepted, you can go to your [sandbox](https://www.ramp.studio/events/tephra_datacamp2023/sandbox) and write the code for your classifier directly on the browser. You can also create a new folder `my_submission` in the `submissions` folder containing `classifier.py` and upload this file directly. You can check the starting-kit ([`classifier.py`](/edit/submissions/starting_kit/classifier.py)) for an example. The submission is trained and tested on our backend in the similar way as `ramp-test` does it locally. While your submission is waiting in the queue and being trained, you can find it in the \"New submissions (pending training)\" table in [my submissions](https://www.ramp.studio/events/tephra_datacamp2023/my_submissions). Once it is trained, your submission shows up on the [public leaderboard](https://www.ramp.studio/events/tephra_datacamp2023/leaderboard). \n",
    "If there is an error (despite having tested your submission locally with `ramp-test`), it will show up in the \"Failed submissions\" table in [my submissions](https://www.ramp.studio/events/tephra_datacamp2023/my_submissions). You can click on the error to see part of the trace.\n",
    "\n",
    "The data set we use at the backend is usually different from what you find in the starting kit, so the score may be different.\n",
    "\n",
    "The usual way to work with RAMP is to explore solutions, add feature transformations, select models, etc., _locally_, and checking them with `ramp-test`. The script prints mean cross-validation scores.\n",
    "\n",
    "The official score in this RAMP (the first score column on the [leaderboard](http://www.ramp.studio/events/tephra_datacamp2023/leaderboard)) is the balenced accuracy score (`bal_acc`). When the score is good enough, you can submit it at the RAMP."
   ]
  },
  {
   "cell_type": "markdown",
   "metadata": {},
   "source": [
    "Here is the script proposed as the starting_kit:"
   ]
  },
  {
   "cell_type": "code",
   "execution_count": 38,
   "metadata": {},
   "outputs": [],
   "source": [
    "from sklearn.base import BaseEstimator\n",
    "from sklearn.pipeline import make_pipeline, Pipeline\n",
    "from sklearn.impute import SimpleImputer\n",
    "from sklearn.preprocessing import StandardScaler\n",
    "from sklearn.linear_model import LogisticRegression\n",
    "\n",
    "\n",
    "class Classifier(BaseEstimator):\n",
    "    def __init__(self):\n",
    "        self.transformer = Pipeline(\n",
    "            steps=[\n",
    "                (\"imputer\", SimpleImputer(strategy=\"median\")),\n",
    "                (\"scaler\", StandardScaler()),\n",
    "            ]\n",
    "        )\n",
    "        self.model = LogisticRegression(max_iter=500)\n",
    "        self.pipe = make_pipeline(self.transformer, self.model)\n",
    "\n",
    "    def fit(self, X, y):\n",
    "        X = X.drop([\"groups\"], axis=1)\n",
    "        self.pipe.fit(X, y)\n",
    "\n",
    "    def predict(self, X):\n",
    "        X = X.drop([\"groups\"], axis=1)\n",
    "        return self.pipe.predict(X)\n",
    "\n",
    "    def predict_proba(self, X):\n",
    "        X = X.drop([\"groups\"], axis=1)\n",
    "        return self.pipe.predict_proba(X)"
   ]
  },
  {
   "cell_type": "markdown",
   "metadata": {},
   "source": [
    "You can test your solution locally by running the ramp-test command followed by --submission <my_submission folder>.\n",
    "Here is an example with the starting_kit submission:"
   ]
  },
  {
   "cell_type": "code",
   "execution_count": 1,
   "metadata": {},
   "outputs": [
    {
     "name": "stdout",
     "output_type": "stream",
     "text": [
      "zsh:1: command not found: ramp-test\n"
     ]
    }
   ],
   "source": [
    "!ramp-test --submission starting_kit"
   ]
  },
  {
   "cell_type": "markdown",
   "metadata": {},
   "source": [
    "## More information\n",
    "\n",
    "See the [online documentation](https://paris-saclay-cds.github.io/ramp-docs/ramp-workflow/stable/using_kits.html) for more details."
   ]
  },
  {
   "cell_type": "markdown",
   "metadata": {},
   "source": [
    "## Questions\n",
    "\n",
    "Questions related to the starting kit should be asked on the issue tracker."
   ]
  },
  {
   "cell_type": "markdown",
   "metadata": {},
   "source": []
  }
 ],
 "metadata": {
  "kernelspec": {
   "display_name": "ramp-tephra",
   "language": "python",
   "name": "python3"
  },
  "language_info": {
   "codemirror_mode": {
    "name": "ipython",
    "version": 3
   },
   "file_extension": ".py",
   "mimetype": "text/x-python",
   "name": "python",
   "nbconvert_exporter": "python",
   "pygments_lexer": "ipython3",
   "version": "3.11.5"
  }
 },
 "nbformat": 4,
 "nbformat_minor": 2
}
